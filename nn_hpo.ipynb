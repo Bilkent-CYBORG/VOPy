{
 "cells": [
  {
   "cell_type": "code",
   "execution_count": 1,
   "metadata": {},
   "outputs": [],
   "source": [
    "import logging\n",
    "logging.basicConfig(level=logging.INFO)\n",
    "from itertools import product\n",
    "\n",
    "import torch\n",
    "import torch.nn as nn\n",
    "import torch.nn.functional as F\n",
    "import torchvision\n",
    "from fvcore.nn import FlopCountAnalysis\n",
    "import numpy as np\n",
    "\n",
    "import optuna\n",
    "\n",
    "from vopy.algorithms import PaVeBaGPOnline\n",
    "from vopy.maximization_problem import FixedPointsProblem\n",
    "from vopy.order import ConeTheta2DOrder"
   ]
  },
  {
   "cell_type": "code",
   "execution_count": 2,
   "metadata": {},
   "outputs": [],
   "source": [
    "DEVICE = torch.device(\"cuda\") if torch.cuda.is_available() else torch.device(\"cpu\")\n",
    "DIR = \"..\"\n",
    "BATCHSIZE = 128\n",
    "N_TRAIN_EXAMPLES = BATCHSIZE * 30\n",
    "N_VALID_EXAMPLES = BATCHSIZE * 10\n",
    "INPUT_SIZE = 28 * 28\n",
    "\n",
    "\n",
    "def generate_model(n_layers, n_units):\n",
    "    layers = []\n",
    "\n",
    "    in_features = INPUT_SIZE\n",
    "    for i in range(n_layers):\n",
    "        out_features = n_units\n",
    "\n",
    "        layers.append(nn.Linear(in_features, out_features))\n",
    "        layers.append(nn.ReLU())\n",
    "        layers.append(nn.Dropout(0.25))\n",
    "\n",
    "        in_features = out_features\n",
    "\n",
    "    layers.append(nn.Linear(in_features, 10))\n",
    "    layers.append(nn.LogSoftmax(dim=1))\n",
    "\n",
    "    return nn.Sequential(*layers)\n",
    "\n",
    "\n",
    "def train_model(model, optimizer, train_loader):\n",
    "    model.train()\n",
    "    for batch_idx, (data, target) in enumerate(train_loader):\n",
    "        data, target = data.view(-1, INPUT_SIZE).to(DEVICE), target.to(DEVICE)\n",
    "        optimizer.zero_grad()\n",
    "        F.nll_loss(model(data), target).backward()\n",
    "        optimizer.step()\n",
    "\n",
    "\n",
    "def eval_model(model, valid_loader):\n",
    "    model.eval()\n",
    "    correct = 0\n",
    "    with torch.no_grad():\n",
    "        for batch_idx, (data, target) in enumerate(valid_loader):\n",
    "            data, target = data.view(-1, INPUT_SIZE).to(DEVICE), target.to(DEVICE)\n",
    "            pred = model(data).argmax(dim=1, keepdim=True)\n",
    "            correct += pred.eq(target.view_as(pred)).sum().item()\n",
    "\n",
    "    accuracy = correct / N_VALID_EXAMPLES\n",
    "\n",
    "    flops = FlopCountAnalysis(model, inputs=(torch.randn(1, INPUT_SIZE).to(DEVICE),)).total()\n",
    "    return flops, accuracy"
   ]
  },
  {
   "cell_type": "code",
   "execution_count": 3,
   "metadata": {},
   "outputs": [],
   "source": [
    "def max_objective(lr, n_layers, n_units):\n",
    "    train_dataset = torchvision.datasets.FashionMNIST(\n",
    "        DIR, train=True, download=True, transform=torchvision.transforms.ToTensor()\n",
    "    )\n",
    "    train_loader = torch.utils.data.DataLoader(\n",
    "        torch.utils.data.Subset(train_dataset, list(range(N_TRAIN_EXAMPLES))),\n",
    "        batch_size=BATCHSIZE,\n",
    "        shuffle=True,\n",
    "    )\n",
    "\n",
    "    val_dataset = torchvision.datasets.FashionMNIST(\n",
    "        DIR, train=False, transform=torchvision.transforms.ToTensor()\n",
    "    )\n",
    "    val_loader = torch.utils.data.DataLoader(\n",
    "        torch.utils.data.Subset(val_dataset, list(range(N_VALID_EXAMPLES))),\n",
    "        batch_size=BATCHSIZE,\n",
    "        shuffle=True,\n",
    "    )\n",
    "    model = generate_model(n_layers, n_units).to(DEVICE)\n",
    "\n",
    "    optimizer = torch.optim.Adam(model.parameters(), lr)\n",
    "\n",
    "    for epoch in range(5):\n",
    "        train_model(model, optimizer, train_loader)\n",
    "    flops, accuracy = eval_model(model, val_loader)\n",
    "    return -flops, accuracy"
   ]
  },
  {
   "cell_type": "code",
   "execution_count": 4,
   "metadata": {},
   "outputs": [],
   "source": [
    "def optuna_objective(trial):\n",
    "    n_layers = trial.suggest_int(\"n_layers\", 1, 3)\n",
    "    n_units = trial.suggest_int(\"n_units\", 16, 64)\n",
    "    lr = trial.suggest_int(\"lr\", 1, 5)\n",
    "    lr = 10**(-lr)\n",
    "\n",
    "    return max_objective(lr, n_layers, n_units)"
   ]
  },
  {
   "cell_type": "code",
   "execution_count": null,
   "metadata": {},
   "outputs": [],
   "source": [
    "# Run Optuna\n",
    "study = optuna.create_study(directions=[\"maximize\", \"maximize\"])\n",
    "study.optimize(optuna_objective, n_trials=10, timeout=120)\n",
    "\n",
    "print(\"Number of finished trials: \", len(study.trials))"
   ]
  },
  {
   "cell_type": "code",
   "execution_count": 5,
   "metadata": {},
   "outputs": [
    {
     "name": "stderr",
     "output_type": "stream",
     "text": [
      "WARNING:fvcore.nn.jit_analysis:Unsupported operator aten::log_softmax encountered 1 time(s)\n",
      "WARNING:fvcore.nn.jit_analysis:Unsupported operator aten::log_softmax encountered 1 time(s)\n",
      "WARNING:fvcore.nn.jit_analysis:Unsupported operator aten::log_softmax encountered 1 time(s)\n",
      "WARNING:fvcore.nn.jit_analysis:Unsupported operator aten::log_softmax encountered 1 time(s)\n",
      "WARNING:fvcore.nn.jit_analysis:Unsupported operator aten::log_softmax encountered 1 time(s)\n",
      "WARNING:fvcore.nn.jit_analysis:Unsupported operator aten::log_softmax encountered 1 time(s)\n",
      "WARNING:fvcore.nn.jit_analysis:Unsupported operator aten::log_softmax encountered 1 time(s)\n",
      "WARNING:fvcore.nn.jit_analysis:Unsupported operator aten::log_softmax encountered 1 time(s)\n",
      "WARNING:fvcore.nn.jit_analysis:Unsupported operator aten::log_softmax encountered 1 time(s)\n",
      "WARNING:fvcore.nn.jit_analysis:Unsupported operator aten::log_softmax encountered 1 time(s)\n"
     ]
    }
   ],
   "source": [
    "def vopy_objective(x):\n",
    "    return np.array(max_objective(x[0], x[1], x[2]))\n",
    "\n",
    "lr_range = range(1, 6)\n",
    "n_layers_range = range(1, 4)\n",
    "n_units_range = range(16, 25)\n",
    "in_pts = list(product(lr_range, n_layers_range, n_units_range))\n",
    "\n",
    "vopy_problem = FixedPointsProblem(in_points=in_pts, out_dim=2, objective=vopy_objective)\n",
    "\n",
    "epsilon = 0.01\n",
    "delta = 0.05\n",
    "order = ConeTheta2DOrder(90)\n",
    "conf_contraction = 16\n",
    "paveba = PaVeBaGPOnline(\n",
    "    epsilon, delta, vopy_problem, order, conf_contraction=conf_contraction, initial_sample_cnt=10\n",
    ")"
   ]
  },
  {
   "cell_type": "code",
   "execution_count": 6,
   "metadata": {},
   "outputs": [
    {
     "name": "stderr",
     "output_type": "stream",
     "text": [
      "INFO:root:Round 1:Evaluating\n",
      "WARNING:fvcore.nn.jit_analysis:Unsupported operator aten::log_softmax encountered 1 time(s)\n",
      "INFO:root:Training started.\n",
      "INFO:root:Training done.\n",
      "INFO:root:Round 1:Modeling\n",
      "/Users/teta/mamba/envs/vopy/lib/python3.12/site-packages/gpytorch/distributions/multivariate_normal.py:319: NumericalWarning: Negative variance values detected. This is likely due to numerical instabilities. Rounding negative variances up to 1e-10.\n",
      "  warnings.warn(\n",
      "INFO:root:Round 1:Discarding\n",
      "INFO:root:Round 1:Pareto update\n",
      "INFO:root:Round 1:Useful update\n",
      "INFO:root:Round 1:There are 0 designs left in set S and 135 designs in set P.\n",
      "INFO:root:Round 1:Sample count 1\n"
     ]
    }
   ],
   "source": [
    "# Run PaVeBa Online\n",
    "while True:\n",
    "    is_done = paveba.run_one_step()\n",
    "\n",
    "    if is_done:\n",
    "        break\n",
    "\n",
    "pred_pareto_indices = sorted(list(paveba.P))"
   ]
  },
  {
   "cell_type": "code",
   "execution_count": 13,
   "metadata": {},
   "outputs": [
    {
     "name": "stdout",
     "output_type": "stream",
     "text": [
      "[-9.74472962e+002  3.49173471e-133]\n",
      "[-9.74472962e+002  3.49173471e-133]\n"
     ]
    },
    {
     "name": "stderr",
     "output_type": "stream",
     "text": [
      "/Users/teta/mamba/envs/vopy/lib/python3.12/site-packages/gpytorch/distributions/multivariate_normal.py:319: NumericalWarning: Negative variance values detected. This is likely due to numerical instabilities. Rounding negative variances up to 1e-10.\n",
      "  warnings.warn(\n"
     ]
    }
   ],
   "source": [
    "p_mean, p_var = paveba.model.predict(np.array(in_pts))\n",
    "print(np.min(p_mean, axis=0))\n",
    "print(np.min(p_mean, axis=0))"
   ]
  },
  {
   "cell_type": "code",
   "execution_count": null,
   "metadata": {},
   "outputs": [
    {
     "data": {
      "image/png": "[encoded data removed]",
      "text/plain": [
       "<Figure size 640x480 with 1 Axes>"
      ]
     },
     "metadata": {},
     "output_type": "display_data"
    }
   ],
   "source": [
    "import matplotlib.pyplot as plt\n",
    "\n",
    "plt.scatter(paveba.model.train_targets[:, 0], paveba.model.train_targets[:, 1])\n",
    "\n",
    "plt.show()"
   ]
  }
 ],
 "metadata": {
  "kernelspec": {
   "display_name": "Python 3",
   "language": "python",
   "name": "python3"
  },
  "language_info": {
   "codemirror_mode": {
    "name": "ipython",
    "version": 3
   },
   "file_extension": ".py",
   "mimetype": "text/x-python",
   "name": "python",
   "nbconvert_exporter": "python",
   "pygments_lexer": "ipython3",
   "version": "3.12.8"
  }
 },
 "nbformat": 4,
 "nbformat_minor": 2
}
