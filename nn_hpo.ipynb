{
 "cells": [
  {
   "cell_type": "code",
   "execution_count": 8,
   "metadata": {},
   "outputs": [],
   "source": [
    "import torch\n",
    "import torch.nn as nn\n",
    "import torch.nn.functional as F\n",
    "import torchvision\n",
    "from fvcore.nn import FlopCountAnalysis\n",
    "\n",
    "import optuna"
   ]
  },
  {
   "cell_type": "code",
   "execution_count": 9,
   "metadata": {},
   "outputs": [],
   "source": [
    "DEVICE = torch.device(\"cuda\") if torch.cuda.is_available() else torch.device(\"cpu\")\n",
    "DIR = \"..\"\n",
    "BATCHSIZE = 128\n",
    "N_TRAIN_EXAMPLES = BATCHSIZE * 30\n",
    "N_VALID_EXAMPLES = BATCHSIZE * 10\n",
    "INPUT_SIZE = 28 * 28\n",
    "\n",
    "def generate_model(n_layers, n_units):\n",
    "    layers = []\n",
    "\n",
    "    in_features = INPUT_SIZE\n",
    "    for i in range(n_layers):\n",
    "        out_features = n_units[i]\n",
    "\n",
    "        layers.append(nn.Linear(in_features, out_features))\n",
    "        layers.append(nn.ReLU())\n",
    "        layers.append(nn.Dropout(0.25))\n",
    "\n",
    "        in_features = out_features\n",
    "\n",
    "    layers.append(nn.Linear(in_features, 10))\n",
    "    layers.append(nn.LogSoftmax(dim=1))\n",
    "\n",
    "    return nn.Sequential(*layers)\n",
    "\n",
    "\n",
    "# Defines training and evaluation.\n",
    "def train_model(model, optimizer, train_loader):\n",
    "    model.train()\n",
    "    for batch_idx, (data, target) in enumerate(train_loader):\n",
    "        data, target = data.view(-1, INPUT_SIZE).to(DEVICE), target.to(DEVICE)\n",
    "        optimizer.zero_grad()\n",
    "        F.nll_loss(model(data), target).backward()\n",
    "        optimizer.step()\n",
    "\n",
    "\n",
    "def eval_model(model, valid_loader):\n",
    "    model.eval()\n",
    "    correct = 0\n",
    "    with torch.no_grad():\n",
    "        for batch_idx, (data, target) in enumerate(valid_loader):\n",
    "            data, target = data.view(-1, INPUT_SIZE).to(DEVICE), target.to(DEVICE)\n",
    "            pred = model(data).argmax(dim=1, keepdim=True)\n",
    "            correct += pred.eq(target.view_as(pred)).sum().item()\n",
    "\n",
    "    accuracy = correct / N_VALID_EXAMPLES\n",
    "\n",
    "    flops = FlopCountAnalysis(model, inputs=(torch.randn(1, INPUT_SIZE).to(DEVICE),)).total()\n",
    "    return flops, accuracy"
   ]
  },
  {
   "cell_type": "code",
   "execution_count": 10,
   "metadata": {},
   "outputs": [],
   "source": [
    "def max_objective(lr, n_layers, n_units):\n",
    "    train_dataset = torchvision.datasets.FashionMNIST(\n",
    "        DIR, train=True, download=True, transform=torchvision.transforms.ToTensor()\n",
    "    )\n",
    "    train_loader = torch.utils.data.DataLoader(\n",
    "        torch.utils.data.Subset(train_dataset, list(range(N_TRAIN_EXAMPLES))),\n",
    "        batch_size=BATCHSIZE,\n",
    "        shuffle=True,\n",
    "    )\n",
    "\n",
    "    val_dataset = torchvision.datasets.FashionMNIST(\n",
    "        DIR, train=False, transform=torchvision.transforms.ToTensor()\n",
    "    )\n",
    "    val_loader = torch.utils.data.DataLoader(\n",
    "        torch.utils.data.Subset(val_dataset, list(range(N_VALID_EXAMPLES))),\n",
    "        batch_size=BATCHSIZE,\n",
    "        shuffle=True,\n",
    "    )\n",
    "    model = generate_model(n_layers, n_units).to(DEVICE)\n",
    "\n",
    "    optimizer = torch.optim.Adam(model.parameters(), lr)\n",
    "\n",
    "    for epoch in range(2):\n",
    "        train_model(model, optimizer, train_loader)\n",
    "    flops, accuracy = eval_model(model, val_loader)\n",
    "    return -flops, accuracy"
   ]
  },
  {
   "cell_type": "code",
   "execution_count": 11,
   "metadata": {},
   "outputs": [],
   "source": [
    "def optuna_objective(trial):\n",
    "    n_layers = trial.suggest_int(\"n_layers\", 1, 3)\n",
    "    n_units = []\n",
    "    for i in range(n_layers):\n",
    "        n_units.append(trial.suggest_int(\"n_units_l{}\".format(i), 16, 64))\n",
    "    lr = trial.suggest_int(\"lr\", 1, 5)\n",
    "    lr = 10**(-lr)\n",
    "\n",
    "    return max_objective(lr, n_layers, n_units)"
   ]
  },
  {
   "cell_type": "code",
   "execution_count": 12,
   "metadata": {},
   "outputs": [
    {
     "name": "stderr",
     "output_type": "stream",
     "text": [
      "[I 2025-02-07 17:40:34,761] A new study created in memory with name: no-name-4a0f73ca-e885-453d-a4cc-f5fa3acf560a\n",
      "Unsupported operator aten::log_softmax encountered 1 time(s)\n",
      "[I 2025-02-07 17:40:39,879] Trial 0 finished with values: [-43302.0, 0.15703125] and parameters: {'n_layers': 3, 'n_units_l0': 49, 'n_units_l1': 54, 'n_units_l2': 35, 'lr': 5}.\n",
      "Unsupported operator aten::log_softmax encountered 1 time(s)\n",
      "[I 2025-02-07 17:40:42,737] Trial 1 finished with values: [-44464.0, 0.353125] and parameters: {'n_layers': 1, 'n_units_l0': 56, 'lr': 1}.\n",
      "Unsupported operator aten::log_softmax encountered 1 time(s)\n",
      "[I 2025-02-07 17:40:46,341] Trial 2 finished with values: [-16596.0, 0.41796875] and parameters: {'n_layers': 3, 'n_units_l0': 19, 'n_units_l1': 44, 'n_units_l2': 16, 'lr': 3}.\n",
      "Unsupported operator aten::log_softmax encountered 1 time(s)\n",
      "[I 2025-02-07 17:40:50,979] Trial 3 finished with values: [-42082.0, 0.76015625] and parameters: {'n_layers': 1, 'n_units_l0': 53, 'lr': 2}.\n",
      "Unsupported operator aten::log_softmax encountered 1 time(s)\n",
      "[I 2025-02-07 17:40:54,673] Trial 4 finished with values: [-25578.0, 0.70078125] and parameters: {'n_layers': 3, 'n_units_l0': 28, 'n_units_l1': 53, 'n_units_l2': 34, 'lr': 2}.\n",
      "Unsupported operator aten::log_softmax encountered 1 time(s)\n",
      "[I 2025-02-07 17:40:58,702] Trial 5 finished with values: [-30966.0, 0.51484375] and parameters: {'n_layers': 1, 'n_units_l0': 39, 'lr': 4}.\n",
      "Unsupported operator aten::log_softmax encountered 1 time(s)\n",
      "[I 2025-02-07 17:41:03,120] Trial 6 finished with values: [-37800.0, 0.10234375] and parameters: {'n_layers': 2, 'n_units_l0': 46, 'n_units_l1': 31, 'lr': 1}.\n",
      "Unsupported operator aten::log_softmax encountered 1 time(s)\n",
      "[I 2025-02-07 17:41:07,308] Trial 7 finished with values: [-26764.0, 0.74453125] and parameters: {'n_layers': 2, 'n_units_l0': 31, 'n_units_l1': 60, 'lr': 2}.\n",
      "Unsupported operator aten::log_softmax encountered 1 time(s)\n",
      "[I 2025-02-07 17:41:10,632] Trial 8 finished with values: [-43670.0, 0.19296875] and parameters: {'n_layers': 1, 'n_units_l0': 55, 'lr': 5}.\n",
      "Unsupported operator aten::log_softmax encountered 1 time(s)\n",
      "[I 2025-02-07 17:41:15,486] Trial 9 finished with values: [-44290.0, 0.09296875] and parameters: {'n_layers': 2, 'n_units_l0': 55, 'n_units_l1': 18, 'lr': 1}.\n"
     ]
    },
    {
     "name": "stdout",
     "output_type": "stream",
     "text": [
      "Number of finished trials:  10\n"
     ]
    }
   ],
   "source": [
    "study = optuna.create_study(directions=[\"maximize\", \"maximize\"])\n",
    "study.optimize(optuna_objective, n_trials=10, timeout=120)\n",
    "\n",
    "print(\"Number of finished trials: \", len(study.trials))"
   ]
  },
  {
   "cell_type": "code",
   "execution_count": null,
   "metadata": {},
   "outputs": [],
   "source": [
    "from vopy.maximization_problem import Problem\n",
    "\n"
   ]
  }
 ],
 "metadata": {
  "kernelspec": {
   "display_name": "Python 3",
   "language": "python",
   "name": "python3"
  },
  "language_info": {
   "codemirror_mode": {
    "name": "ipython",
    "version": 3
   },
   "file_extension": ".py",
   "mimetype": "text/x-python",
   "name": "python",
   "nbconvert_exporter": "python",
   "pygments_lexer": "ipython3",
   "version": "3.13.1"
  }
 },
 "nbformat": 4,
 "nbformat_minor": 2
}
