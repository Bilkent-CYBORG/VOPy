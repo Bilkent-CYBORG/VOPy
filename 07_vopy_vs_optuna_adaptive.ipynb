{
 "cells": [
  {
   "cell_type": "markdown",
   "metadata": {},
   "source": [
    "## Black-box Vector Optimization on Fairness\n",
    "This notebook contains a vector optimization example on an ML fairness dataset, and compares Naive Elimination and PaVeBa algorithms."
   ]
  },
  {
   "cell_type": "code",
   "execution_count": null,
   "metadata": {},
   "outputs": [],
   "source": [
    "from copy import deepcopy\n",
    "from unittest import mock\n",
    "from typing import Optional\n",
    "\n",
    "import warnings\n",
    "warnings.filterwarnings(\"ignore\")\n",
    "\n",
    "import matplotlib.pyplot as plt\n",
    "\n",
    "import torch\n",
    "from torch import Tensor\n",
    "import numpy as np\n",
    "from botorch.test_functions.base import MultiObjectiveTestProblem\n",
    "import botorch.test_functions.multi_objective as multi_objective\n",
    "from scipy.integrate import solve_ivp\n",
    "from scipy.stats.qmc import Sobol\n",
    "\n",
    "import optuna\n",
    "from vopy.utils import set_seed\n",
    "from vopy.order import ConeTheta2DOrder, ConeOrder3D\n",
    "from vopy.algorithms import PaVeBaGPOnline, VOGP_AD\n",
    "from vopy.maximization_problem import FixedPointsProblem, ContinuousProblem\n",
    "from vopy.utils.evaluate import calculate_epsilonF1_score, calculate_hypervolume_discrepancy_for_model\n",
    "\n",
    "optuna.logging.set_verbosity(optuna.logging.WARNING)"
   ]
  },
  {
   "cell_type": "markdown",
   "metadata": {},
   "source": [
    "Let's first create an `Order` object to define our preference and visualize it's cone. Our preference correspond to allowing a little trade-off between objectives."
   ]
  },
  {
   "cell_type": "code",
   "execution_count": 2,
   "metadata": {},
   "outputs": [
    {
     "data": {
      "image/png": "[encoded data removed]",
      "text/plain": [
       "<Figure size 600x400 with 1 Axes>"
      ]
     },
     "metadata": {},
     "output_type": "display_data"
    },
    {
     "data": {
      "image/png": "[encoded data removed]",
      "text/plain": [
       "<Figure size 600x400 with 1 Axes>"
      ]
     },
     "metadata": {},
     "output_type": "display_data"
    }
   ],
   "source": [
    "order = ConeTheta2DOrder(cone_degree=30)\n",
    "order_mo = ConeTheta2DOrder(cone_degree=90)\n",
    "# order = ConeOrder3D(cone_type=\"acute\")\n",
    "fig_cone = order.ordering_cone.plot()\n",
    "fig_cone_mo = order_mo.ordering_cone.plot()"
   ]
  },
  {
   "cell_type": "markdown",
   "metadata": {},
   "source": [
    "Now, we will create an instance of ML fairness dataset and visualize its Pareto front w.r.t. the order we created. This dataset contains different (200 candidates) hyperparameter selections of ROAD approach on a neural network architecture. The objectives are negative global unfairness measured by disparate impact measure and accuracy of the model. The $x$-axis corresponds to the negative global unfairness and $y$-axis corresponds to the accuracy of the model."
   ]
  },
  {
   "cell_type": "code",
   "execution_count": 3,
   "metadata": {},
   "outputs": [],
   "source": [
    "class PK2(MultiObjectiveTestProblem):\n",
    "    r\"\"\"A two objective optimization problem for the Paal-Knorr reaction (PK) between\n",
    "    2,5-hexanedione and ethanolamine.\n",
    "\n",
    "    Design space `x = (tau, temperature, equivalents)`:\n",
    "        - `tau` is the residence time.\n",
    "        - `temperature` is the temperature.\n",
    "        - `equivalents` is the equivalents of 3.25 (???).\n",
    "\n",
    "    Objective `min(log(yield), -log(sty))`:\n",
    "        - `yield` is the yield of 3.26 %.\n",
    "        - `sty` is the space-time yield.\n",
    "\n",
    "    This implementation is adapted from the MATLAB code in\n",
    "    https://github.com/adamc1994/MultiChem\n",
    "    \"\"\"\n",
    "\n",
    "    dim = 3\n",
    "    num_objectives = 2\n",
    "    _bounds = [(0.5, 2), (25, 150), (1, 10)]\n",
    "    _ref_point = [4.5, -3]\n",
    "\n",
    "    # Molecular weight\n",
    "    molecular_weight = 139.20\n",
    "    # Avogadro\n",
    "    R = 8.314\n",
    "    # Absolute zero\n",
    "    absolute_zero = 273.15\n",
    "    # volume\n",
    "    V = 8\n",
    "    # discretization\n",
    "    n = 5\n",
    "    discrete_v = torch.linspace(0, V, n)\n",
    "    # initial concentration\n",
    "    C0 = 1\n",
    "\n",
    "    def __init__(self, noise_std: Optional[float] = None, negate: bool = True) -> None:\n",
    "        r\"\"\"Constructor for PK2.\n",
    "        Args:\n",
    "            noise_std: Standard deviation of the observation noise.\n",
    "            negate: If True, negate the objectives.\n",
    "        \"\"\"\n",
    "        super().__init__(noise_std=noise_std, negate=negate)\n",
    "\n",
    "    @classmethod\n",
    "    def solve_ode(cls, X) -> Tensor:\n",
    "        \"\"\"\n",
    "        Args:\n",
    "            X: A `batch_shape x d`-dim Tensor containing the designs.\n",
    "\n",
    "        Returns:\n",
    "            A `batch_shape x M`-dim Tensor containing the objectives.\n",
    "\n",
    "        \"\"\"\n",
    "        # We consider transforming X into `B x d`-dim Tensor and then performing `B`\n",
    "        # function evaluations. Certain computations are executed in parallel when\n",
    "        # simple.\n",
    "        batch_shape = X.shape[:-1]\n",
    "        B = torch.prod(torch.tensor(batch_shape))\n",
    "        new_shape = torch.Size([B]) + torch.Size([cls.dim])\n",
    "        X_reshaped = X.reshape(new_shape)\n",
    "\n",
    "        # extract design variables\n",
    "        tau = X_reshaped[:, 0]\n",
    "        temperature = X_reshaped[:, 1]\n",
    "        equivalents = X_reshaped[:, 2]\n",
    "\n",
    "        # concentration\n",
    "        C_i = torch.zeros(B, cls.n * 4)\n",
    "        C_i[:, 0] = cls.C0\n",
    "        C_i[:, cls.n] = cls.C0 * equivalents\n",
    "\n",
    "        # Integration step\n",
    "        # Ideally we should integrate in parallel, but scipy.stats.solve_ivp\n",
    "        # does not have this feature.\n",
    "        C_final = np.zeros(shape=(B, 4))\n",
    "        for b in range(B):\n",
    "            def _integrand_b(t, concentration, temperature):\n",
    "                flow_rate = cls.V / tau[b]\n",
    "                conc = concentration[0:cls.n*4].reshape(4, cls.n)\n",
    "                T = temperature + cls.absolute_zero\n",
    "\n",
    "                k = (\n",
    "                    lambda k_ref, E_a: k_ref * np.exp(-E_a / (cls.R * T))\n",
    "                )\n",
    "                diff = lambda vec: vec[1:] - vec[0:-1]\n",
    "\n",
    "                k_a = k(15.40, 12.2e3)\n",
    "                k_b = k(405.19, 20.0e3)\n",
    "\n",
    "                A = conc[0, :]\n",
    "                B = conc[1, :]\n",
    "                C = conc[2, :]\n",
    "                D = conc[3, :]\n",
    "\n",
    "                dAdt = [\n",
    "                    torch.zeros(1),\n",
    "                    - flow_rate * diff(A) / diff(cls.discrete_v)\n",
    "                    - k_a * A[1:] * B[1:]\n",
    "                ]\n",
    "                dAdt = torch.cat(dAdt)\n",
    "\n",
    "                dBdt = [\n",
    "                    torch.zeros(1),\n",
    "                    - flow_rate * diff(B) / diff(cls.discrete_v)\n",
    "                    - k_a * A[1:] * B[1:]\n",
    "                ]\n",
    "                dBdt = torch.cat(dBdt)\n",
    "\n",
    "                dCdt = [\n",
    "                    torch.zeros(1),\n",
    "                    - flow_rate * diff(C) / diff(cls.discrete_v)\n",
    "                    + k_a * A[1:] * B[1:] - k_b * C[1:]\n",
    "                ]\n",
    "                dCdt = torch.cat(dCdt)\n",
    "\n",
    "                dDdt = [\n",
    "                    torch.zeros(1),\n",
    "                    - flow_rate * diff(D) / diff(cls.discrete_v)\n",
    "                    + k_b * C[1:]\n",
    "                ]\n",
    "                dDdt = torch.cat(dDdt)\n",
    "\n",
    "                return torch.cat([dAdt, dBdt, dCdt, dDdt])\n",
    "\n",
    "            res_b = solve_ivp(\n",
    "                _integrand_b, [0, 4*tau[b]], C_i[b], args=(temperature[b],)\n",
    "            )\n",
    "\n",
    "            C_final[b, :] = torch.tensor(\n",
    "                [res_b.y[(i+1)*cls.n - 1, -1] for i in range(4)],\n",
    "                dtype=torch.double\n",
    "            )\n",
    "\n",
    "        # Convert numpy array to tensor\n",
    "        C_final = torch.tensor(C_final, dtype=torch.double)\n",
    "        sty = 60 * C_final[:, 3] * cls.molecular_weight / tau\n",
    "\n",
    "        # product = C_final[:, 3] * 100\n",
    "        # rme = (139.20 * product) / (\n",
    "        #         114.14 + (61.08 * equivalents)\n",
    "        # )\n",
    "\n",
    "        intermediate_yield = C_final[:, 2] * 100 / cls.C0\n",
    "\n",
    "        obj_values = torch.column_stack(\n",
    "            [torch.log(intermediate_yield), -torch.log(sty)]\n",
    "        )\n",
    "\n",
    "        return obj_values.reshape(batch_shape + torch.Size([cls.num_objectives]))\n",
    "\n",
    "    def evaluate_true(self, X: Tensor) -> Tensor:\n",
    "        return self.solve_ode(X)\n"
   ]
  },
  {
   "cell_type": "code",
   "execution_count": 11,
   "metadata": {},
   "outputs": [],
   "source": [
    "set_seed(0)\n",
    "\n",
    "design_count = 300\n",
    "epsilon = 0.01\n",
    "delta = 0.05\n",
    "noise_var = 0.0001\n",
    "noise_std = noise_var ** 0.5\n",
    "\n",
    "problem = PK2(noise_std=noise_std, negate=True)\n",
    "input_bounds = problem._bounds\n",
    "\n",
    "class PK2_VOPy(ContinuousProblem):\n",
    "    bounds = np.array(input_bounds)\n",
    "    in_dim = len(bounds)\n",
    "    out_dim = 2\n",
    "    domain_discretization_each_dim = 33\n",
    "    depth_max = 3\n",
    "\n",
    "    def __init__(self, noise_var: float) -> None:\n",
    "        super().__init__(noise_var)\n",
    "\n",
    "    def evaluate_true(self, x: np.ndarray) -> np.ndarray:\n",
    "        return problem(torch.tensor(x)).numpy(force=True)"
   ]
  },
  {
   "cell_type": "markdown",
   "metadata": {},
   "source": [
    "#### Algorithms\n",
    "We'll now run both algorithms (Naive Elimination and PaVeBa) and print out their results."
   ]
  },
  {
   "cell_type": "code",
   "execution_count": 12,
   "metadata": {},
   "outputs": [
    {
     "name": "stdout",
     "output_type": "stream",
     "text": [
      "Round 0:There are 8 designs left in set S and 0 designs in set P.\n",
      "Round 1:There are 15 designs left in set S and 0 designs in set P.\n",
      "Round 2:There are 15 designs left in set S and 0 designs in set P.\n",
      "Round 3:There are 22 designs left in set S and 0 designs in set P.\n",
      "Round 4:There are 22 designs left in set S and 0 designs in set P.\n",
      "Round 5:There are 29 designs left in set S and 0 designs in set P.\n",
      "Round 6:There are 29 designs left in set S and 0 designs in set P.\n",
      "Round 7:There are 36 designs left in set S and 0 designs in set P.\n",
      "Round 8:There are 36 designs left in set S and 0 designs in set P.\n",
      "Round 9:There are 36 designs left in set S and 0 designs in set P.\n",
      "Round 10:There are 33 designs left in set S and 0 designs in set P.\n",
      "Round 11:There are 36 designs left in set S and 0 designs in set P.\n",
      "Round 12:There are 36 designs left in set S and 0 designs in set P.\n",
      "Round 13:There are 35 designs left in set S and 0 designs in set P.\n",
      "Round 14:There are 42 designs left in set S and 0 designs in set P.\n",
      "Round 15:There are 41 designs left in set S and 0 designs in set P.\n",
      "Round 16:There are 41 designs left in set S and 0 designs in set P.\n",
      "Round 17:There are 41 designs left in set S and 0 designs in set P.\n",
      "Round 18:There are 40 designs left in set S and 0 designs in set P.\n",
      "Round 19:There are 39 designs left in set S and 0 designs in set P.\n",
      "Round 20:There are 38 designs left in set S and 0 designs in set P.\n",
      "Round 21:There are 37 designs left in set S and 0 designs in set P.\n",
      "Round 22:There are 37 designs left in set S and 0 designs in set P.\n",
      "Round 23:There are 36 designs left in set S and 0 designs in set P.\n",
      "Round 24:There are 43 designs left in set S and 0 designs in set P.\n",
      "Round 25:There are 42 designs left in set S and 0 designs in set P.\n",
      "Round 26:There are 40 designs left in set S and 0 designs in set P.\n",
      "Round 27:There are 39 designs left in set S and 0 designs in set P.\n",
      "Round 28:There are 32 designs left in set S and 0 designs in set P.\n",
      "Round 29:There are 32 designs left in set S and 0 designs in set P.\n",
      "Round 30:There are 29 designs left in set S and 0 designs in set P.\n",
      "Round 31:There are 29 designs left in set S and 0 designs in set P.\n",
      "Round 32:There are 29 designs left in set S and 0 designs in set P.\n",
      "Round 33:There are 36 designs left in set S and 0 designs in set P.\n",
      "Round 34:There are 0 designs left in set S and 36 designs in set P.\n"
     ]
    }
   ],
   "source": [
    "set_seed(0)\n",
    "\n",
    "vopy_problem = PK2_VOPy(noise_var=noise_var)\n",
    "vopy_alg = VOGP_AD(\n",
    "    epsilon=epsilon,\n",
    "    delta=delta,\n",
    "    problem=vopy_problem,\n",
    "    order=order,\n",
    "    noise_var=noise_var,\n",
    "    conf_contraction=256\n",
    ")\n",
    "\n",
    "while True:\n",
    "    is_done = vopy_alg.run_one_step()\n",
    "\n",
    "    if is_done:\n",
    "        break"
   ]
  },
  {
   "cell_type": "code",
   "execution_count": 13,
   "metadata": {},
   "outputs": [
    {
     "name": "stdout",
     "output_type": "stream",
     "text": [
      "Number of finished trials:  25\n"
     ]
    }
   ],
   "source": [
    "# def optuna_objective(trial):\n",
    "#     index = trial.suggest_categorical(\"tau_temp_equ\", list(range(len(X))))\n",
    "\n",
    "#     inp = torch.tensor(X[index]).reshape(1, problem.dim)\n",
    "#     return problem(inp).numpy(force=True).tolist()[0]\n",
    "\n",
    "def optuna_objective(trial):\n",
    "    tau = trial.suggest_float(\"tau\", problem._bounds[0][0], problem._bounds[0][1])\n",
    "    temperature = trial.suggest_float(\"temperature\", problem._bounds[1][0], problem._bounds[1][1])\n",
    "    equivalents = trial.suggest_float(\"equivalents\", problem._bounds[2][0], problem._bounds[2][1])\n",
    "    suggested_point = np.array([tau, temperature, equivalents])\n",
    "\n",
    "    inp = torch.tensor(suggested_point).reshape(1, problem.dim)\n",
    "    return problem(inp).numpy(force=True).tolist()[0]\n",
    "\n",
    "study = optuna.create_study(directions=[\"maximize\", \"maximize\"])\n",
    "study.optimize(optuna_objective, n_trials=vopy_alg.sample_count, timeout=120)\n",
    "print(\"Number of finished trials: \", len(study.trials))"
   ]
  },
  {
   "cell_type": "code",
   "execution_count": 15,
   "metadata": {},
   "outputs": [],
   "source": [
    "optuna_p_set = []\n",
    "for trial in study.best_trials:\n",
    "    trial_pt = np.array((trial.params[\"tau\"], trial.params[\"temperature\"], trial.params[\"equivalents\"]))\n",
    "    optuna_p_set.append(trial_pt)\n",
    "\n",
    "vopy_p_set = vopy_alg.design_space.points[list(vopy_alg.P)].tolist()"
   ]
  },
  {
   "cell_type": "code",
   "execution_count": 35,
   "metadata": {},
   "outputs": [
    {
     "name": "stdout",
     "output_type": "stream",
     "text": [
      "Hypervolume VOPy:  36.39855513325331\n",
      "Hypervolume Optuna:  15.993903998432712\n"
     ]
    }
   ],
   "source": [
    "from botorch.utils.multi_objective.hypervolume import Hypervolume\n",
    "\n",
    "optuna_p_f = vopy_problem.evaluate_true(np.array(optuna_p_set))\n",
    "vopy_p_f = vopy_problem.evaluate_true(np.array(vopy_p_set))\n",
    "\n",
    "optuna_p_f_W = optuna_p_f @ order.ordering_cone.W.T\n",
    "vopy_p_f_W = vopy_p_f @ order.ordering_cone.W.T\n",
    "\n",
    "reference_point = torch.tensor(np.min(np.vstack([optuna_p_f_W, vopy_p_f_W]), axis=0))\n",
    "hypervolume_instance = Hypervolume(reference_point)\n",
    "\n",
    "hypervolume_optuna = hypervolume_instance.compute(torch.tensor(optuna_p_f_W))\n",
    "hypervolume_vopy = hypervolume_instance.compute(torch.tensor(vopy_p_f_W))\n",
    "\n",
    "print(\"Hypervolume VOPy: \", hypervolume_vopy)\n",
    "print(\"Hypervolume Optuna: \", hypervolume_optuna)"
   ]
  },
  {
   "cell_type": "code",
   "execution_count": 36,
   "metadata": {},
   "outputs": [
    {
     "data": {
      "image/png": "[encoded data removed]",
      "text/plain": [
       "<Figure size 640x480 with 1 Axes>"
      ]
     },
     "metadata": {},
     "output_type": "display_data"
    }
   ],
   "source": [
    "plt.scatter(vopy_p_f_W[:, 0], vopy_p_f_W[:, 1], label=\"VOPy\", color=\"blue\", marker=\"o\")\n",
    "plt.scatter(optuna_p_f_W[:, 0], optuna_p_f_W[:, 1], label=\"Optuna\", color=\"red\", marker=\"x\")\n",
    "plt.xlabel(\"Yield\")\n",
    "plt.ylabel(\"Space-time yield\")\n",
    "plt.title(\"Pareto front comparison\")\n",
    "plt.legend()\n",
    "plt.show()"
   ]
  },
  {
   "cell_type": "code",
   "execution_count": null,
   "metadata": {},
   "outputs": [],
   "source": []
  }
 ],
 "metadata": {
  "kernelspec": {
   "display_name": ".venv",
   "language": "python",
   "name": "python3"
  },
  "language_info": {
   "codemirror_mode": {
    "name": "ipython",
    "version": 3
   },
   "file_extension": ".py",
   "mimetype": "text/x-python",
   "name": "python",
   "nbconvert_exporter": "python",
   "pygments_lexer": "ipython3",
   "version": "3.13.3"
  }
 },
 "nbformat": 4,
 "nbformat_minor": 2
}
