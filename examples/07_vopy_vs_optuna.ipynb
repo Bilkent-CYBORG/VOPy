{
 "cells": [
  {
   "cell_type": "markdown",
   "metadata": {},
   "source": [
    "## Compare VOPy with Optuna on Black-box Vector Optimization\n",
    "This notebook compares VOPy with the state-of-the-art black-box optimization library called **Optuna**. As a real-world problem, we use a Paal-Knorr reaction for optimization. This problem is implemented in Tu et al, 2022. We will use a variant of PaVeBa (Karagözlü et al, 2023) algorithm for online learning (see [PaVeBaGPOnline](../algorithms.rst#pavebagponline) docs).\n",
    "\n",
    "- Ben Tu, Axel Gandy, Nikolas Kantas, Behrang Shafei. [Joint Entropy Search for Multi-objective Bayesian Optimization](https://arxiv.org/pdf/2210.02905.pdf). NeurIPS 2022. [GitHub Repo.](https://github.com/benmltu/JES/)"
   ]
  },
  {
   "cell_type": "markdown",
   "metadata": {},
   "source": [
    "Before starting, make sure the Optuna is installed. We include it as optional-dependencies under `examples`, see `pyproject.toml` in GitHub."
   ]
  },
  {
   "cell_type": "code",
   "execution_count": 1,
   "metadata": {},
   "outputs": [],
   "source": [
    "import warnings\n",
    "from unittest import mock\n",
    "\n",
    "import logging\n",
    "from importlib import reload\n",
    "\n",
    "\n",
    "import matplotlib.pyplot as plt\n",
    "\n",
    "import torch\n",
    "import numpy as np\n",
    "from scipy.stats.qmc import Sobol\n",
    "\n",
    "import optuna\n",
    "\n",
    "from vopy.utils import set_seed\n",
    "from vopy.order import ConeTheta2DOrder\n",
    "from vopy.algorithms import PaVeBaGPOnline\n",
    "from vopy.maximization_problem import FixedPointsProblem\n",
    "from vopy.utils.evaluate import calculate_epsilonF1_score\n",
    "\n",
    "warnings.filterwarnings(\"ignore\")\n",
    "optuna.logging.set_verbosity(optuna.logging.WARNING)\n",
    "\n",
    "reload(logging)\n",
    "logging.basicConfig(level=logging.INFO)"
   ]
  },
  {
   "cell_type": "markdown",
   "metadata": {},
   "source": [
    "#### Loading `PK2` from JES dynamically\n",
    "The code for JES is not properly packaged, so we can not install it using pip. Therefore, we download the file we are interested in and load it manually."
   ]
  },
  {
   "cell_type": "code",
   "execution_count": 2,
   "metadata": {},
   "outputs": [],
   "source": [
    "import importlib, sys, pathlib\n",
    "from urllib.request import urlopen\n",
    "\n",
    "RAW_URL_COMMIT = \"https://raw.githubusercontent.com/benmltu/JES/7ea9856781869c0cd348fb52c7431c40274225e9/jes/benchmarks/chembench.py\"\n",
    "cache_dir = pathlib.Path(\"tmp/jes/\")\n",
    "cache_dir.mkdir(parents=True, exist_ok=True)\n",
    "\n",
    "try:\n",
    "    with urlopen(RAW_URL_COMMIT) as resp:\n",
    "        source_bytes = resp.read()\n",
    "except Exception as dl_e:\n",
    "    raise RuntimeError(f\"Failed to download chembench.py from JES repo: {dl_e}\")\n",
    "\n",
    "cached_path = cache_dir / f\"chembench.py\"\n",
    "if not cached_path.exists():\n",
    "    cached_path.write_bytes(source_bytes)\n",
    "\n",
    "# Load module from cached file\n",
    "spec_name = f\"_jes_chembench\"\n",
    "spec = importlib.util.spec_from_file_location(spec_name, cached_path)\n",
    "\n",
    "module = importlib.util.module_from_spec(spec)\n",
    "sys.modules[spec_name] = module\n",
    "\n",
    "spec.loader.exec_module(module)\n",
    "\n",
    "PK2 = getattr(module, \"PK2\")"
   ]
  },
  {
   "cell_type": "markdown",
   "metadata": {},
   "source": [
    "Fixing a seed for reproducibility."
   ]
  },
  {
   "cell_type": "code",
   "execution_count": 3,
   "metadata": {},
   "outputs": [],
   "source": [
    "set_seed(0)"
   ]
  },
  {
   "cell_type": "markdown",
   "metadata": {},
   "source": [
    "We will create a problem instance from JES module. Note that we are maximizing, hence the `negate=True`."
   ]
  },
  {
   "cell_type": "code",
   "execution_count": 4,
   "metadata": {},
   "outputs": [],
   "source": [
    "noise_var = 0.0001\n",
    "noise_std = noise_var ** 0.5  # Only known by the problem.\n",
    "\n",
    "problem = PK2(noise_std=noise_std, negate=True)"
   ]
  },
  {
   "cell_type": "markdown",
   "metadata": {},
   "source": [
    "Let's now create our `Order` object to define our preference."
   ]
  },
  {
   "cell_type": "code",
   "execution_count": 13,
   "metadata": {},
   "outputs": [
    {
     "data": {
      "image/png": "[encoded data removed]",
      "text/plain": [
       "<Figure size 600x400 with 1 Axes>"
      ]
     },
     "metadata": {},
     "output_type": "display_data"
    }
   ],
   "source": [
    "order = ConeTheta2DOrder(cone_degree=45)\n",
    "fig_cone = order.ordering_cone.plot()"
   ]
  },
  {
   "cell_type": "markdown",
   "metadata": {},
   "source": [
    "As we will work in a fixed cardinality space, we fix the possible design choices beforehand."
   ]
  },
  {
   "cell_type": "code",
   "execution_count": 14,
   "metadata": {},
   "outputs": [],
   "source": [
    "design_count = 300\n",
    "\n",
    "input_bounds = problem._bounds\n",
    "\n",
    "# Create designs\n",
    "num_sobol_samples = design_count\n",
    "sampler = Sobol(problem.dim, scramble=False)\n",
    "sampler.fast_forward(np.random.randint(low=1, high=max(2, num_sobol_samples)))\n",
    "X_np = sampler.random(num_sobol_samples)\n",
    "\n",
    "# Scale designs to the problem bounds\n",
    "for i, (l, u) in enumerate(input_bounds):\n",
    "    X_np[:, i] = X_np[:, i] * (u - l) + l"
   ]
  },
  {
   "cell_type": "markdown",
   "metadata": {},
   "source": [
    "#### Optimizing with libraries\n",
    "We'll now setup and run both frameworks (VOPy and Optuna)."
   ]
  },
  {
   "cell_type": "markdown",
   "metadata": {},
   "source": [
    "#### Set up and run VOPy"
   ]
  },
  {
   "cell_type": "code",
   "execution_count": 15,
   "metadata": {},
   "outputs": [
    {
     "name": "stderr",
     "output_type": "stream",
     "text": [
      "INFO:root:Round 1:There are 85 designs left in set S and 2 designs in set P.\n",
      "INFO:root:Round 2:There are 79 designs left in set S and 2 designs in set P.\n",
      "INFO:root:Round 3:There are 76 designs left in set S and 2 designs in set P.\n",
      "INFO:root:Round 4:There are 74 designs left in set S and 3 designs in set P.\n",
      "INFO:root:Round 5:There are 73 designs left in set S and 3 designs in set P.\n",
      "INFO:root:Round 6:There are 71 designs left in set S and 4 designs in set P.\n",
      "INFO:root:Round 7:There are 70 designs left in set S and 4 designs in set P.\n",
      "INFO:root:Round 8:There are 68 designs left in set S and 5 designs in set P.\n",
      "INFO:root:Round 9:There are 66 designs left in set S and 5 designs in set P.\n",
      "INFO:root:Round 10:There are 66 designs left in set S and 5 designs in set P.\n",
      "INFO:root:Round 11:There are 65 designs left in set S and 5 designs in set P.\n",
      "INFO:root:Round 12:There are 62 designs left in set S and 6 designs in set P.\n",
      "INFO:root:Round 13:There are 49 designs left in set S and 12 designs in set P.\n",
      "INFO:root:Round 14:There are 24 designs left in set S and 19 designs in set P.\n",
      "INFO:root:Round 15:There are 20 designs left in set S and 19 designs in set P.\n",
      "INFO:root:Round 16:There are 19 designs left in set S and 20 designs in set P.\n",
      "INFO:root:Round 17:There are 19 designs left in set S and 20 designs in set P.\n",
      "INFO:root:Round 18:There are 19 designs left in set S and 20 designs in set P.\n",
      "INFO:root:Round 19:There are 19 designs left in set S and 20 designs in set P.\n",
      "INFO:root:Round 20:There are 19 designs left in set S and 20 designs in set P.\n",
      "INFO:root:Round 21:There are 18 designs left in set S and 20 designs in set P.\n",
      "INFO:root:Round 22:There are 18 designs left in set S and 20 designs in set P.\n",
      "INFO:root:Round 23:There are 17 designs left in set S and 21 designs in set P.\n",
      "INFO:root:Round 24:There are 17 designs left in set S and 21 designs in set P.\n",
      "INFO:root:Round 25:There are 17 designs left in set S and 21 designs in set P.\n",
      "INFO:root:Round 26:There are 16 designs left in set S and 21 designs in set P.\n",
      "INFO:root:Round 27:There are 15 designs left in set S and 21 designs in set P.\n",
      "INFO:root:Round 28:There are 15 designs left in set S and 21 designs in set P.\n",
      "INFO:root:Round 29:There are 15 designs left in set S and 21 designs in set P.\n",
      "INFO:root:Round 30:There are 15 designs left in set S and 21 designs in set P.\n",
      "INFO:root:Round 31:There are 15 designs left in set S and 21 designs in set P.\n",
      "INFO:root:Round 32:There are 15 designs left in set S and 21 designs in set P.\n",
      "INFO:root:Round 33:There are 15 designs left in set S and 21 designs in set P.\n",
      "INFO:root:Round 34:There are 13 designs left in set S and 22 designs in set P.\n",
      "INFO:root:Round 35:There are 13 designs left in set S and 22 designs in set P.\n",
      "INFO:root:Round 36:There are 13 designs left in set S and 22 designs in set P.\n",
      "INFO:root:Round 37:There are 11 designs left in set S and 23 designs in set P.\n",
      "INFO:root:Round 38:There are 11 designs left in set S and 23 designs in set P.\n",
      "INFO:root:Round 39:There are 11 designs left in set S and 23 designs in set P.\n",
      "INFO:root:Round 40:There are 11 designs left in set S and 23 designs in set P.\n",
      "INFO:root:Round 41:There are 9 designs left in set S and 23 designs in set P.\n",
      "INFO:root:Round 42:There are 9 designs left in set S and 23 designs in set P.\n",
      "INFO:root:Round 43:There are 9 designs left in set S and 23 designs in set P.\n",
      "INFO:root:Round 44:There are 9 designs left in set S and 23 designs in set P.\n",
      "INFO:root:Round 45:There are 7 designs left in set S and 23 designs in set P.\n",
      "INFO:root:Round 46:There are 6 designs left in set S and 23 designs in set P.\n",
      "INFO:root:Round 47:There are 6 designs left in set S and 23 designs in set P.\n",
      "INFO:root:Round 48:There are 5 designs left in set S and 23 designs in set P.\n",
      "INFO:root:Round 49:There are 5 designs left in set S and 23 designs in set P.\n",
      "INFO:root:Round 50:There are 5 designs left in set S and 23 designs in set P.\n",
      "INFO:root:Round 51:There are 5 designs left in set S and 23 designs in set P.\n",
      "INFO:root:Round 52:There are 4 designs left in set S and 23 designs in set P.\n",
      "INFO:root:Round 53:There are 4 designs left in set S and 23 designs in set P.\n",
      "INFO:root:Round 54:There are 4 designs left in set S and 23 designs in set P.\n",
      "INFO:root:Round 55:There are 4 designs left in set S and 23 designs in set P.\n",
      "INFO:root:Round 56:There are 3 designs left in set S and 24 designs in set P.\n",
      "INFO:root:Round 57:There are 3 designs left in set S and 24 designs in set P.\n",
      "INFO:root:Round 58:There are 3 designs left in set S and 24 designs in set P.\n",
      "INFO:root:Round 59:There are 3 designs left in set S and 24 designs in set P.\n",
      "INFO:root:Round 60:There are 3 designs left in set S and 24 designs in set P.\n",
      "INFO:root:Round 61:There are 3 designs left in set S and 24 designs in set P.\n",
      "INFO:root:Round 62:There are 3 designs left in set S and 24 designs in set P.\n",
      "INFO:root:Round 63:There are 3 designs left in set S and 24 designs in set P.\n",
      "INFO:root:Round 64:There are 3 designs left in set S and 24 designs in set P.\n",
      "INFO:root:Round 65:There are 3 designs left in set S and 24 designs in set P.\n",
      "INFO:root:Round 66:There are 2 designs left in set S and 25 designs in set P.\n",
      "INFO:root:Round 67:There are 2 designs left in set S and 25 designs in set P.\n",
      "INFO:root:Round 68:There are 2 designs left in set S and 25 designs in set P.\n",
      "INFO:root:Round 69:There are 2 designs left in set S and 25 designs in set P.\n",
      "INFO:root:Round 70:There are 2 designs left in set S and 25 designs in set P.\n",
      "INFO:root:Round 71:There are 2 designs left in set S and 25 designs in set P.\n",
      "INFO:root:Round 72:There are 2 designs left in set S and 25 designs in set P.\n",
      "INFO:root:Round 73:There are 2 designs left in set S and 25 designs in set P.\n",
      "INFO:root:Round 74:There are 2 designs left in set S and 25 designs in set P.\n",
      "INFO:root:Round 75:There are 2 designs left in set S and 25 designs in set P.\n",
      "INFO:root:Round 76:There are 2 designs left in set S and 25 designs in set P.\n",
      "INFO:root:Round 77:There are 2 designs left in set S and 25 designs in set P.\n",
      "INFO:root:Round 78:There are 2 designs left in set S and 25 designs in set P.\n",
      "INFO:root:Round 79:There are 2 designs left in set S and 25 designs in set P.\n",
      "INFO:root:Round 80:There are 2 designs left in set S and 25 designs in set P.\n",
      "INFO:root:Round 81:There are 2 designs left in set S and 25 designs in set P.\n",
      "INFO:root:Round 82:There are 1 designs left in set S and 25 designs in set P.\n",
      "INFO:root:Round 83:There are 1 designs left in set S and 25 designs in set P.\n",
      "INFO:root:Round 84:There are 1 designs left in set S and 25 designs in set P.\n",
      "INFO:root:Round 85:There are 1 designs left in set S and 25 designs in set P.\n",
      "INFO:root:Round 86:There are 1 designs left in set S and 25 designs in set P.\n",
      "INFO:root:Round 87:There are 1 designs left in set S and 25 designs in set P.\n",
      "INFO:root:Round 88:There are 1 designs left in set S and 25 designs in set P.\n",
      "INFO:root:Round 89:There are 1 designs left in set S and 25 designs in set P.\n",
      "INFO:root:Round 90:There are 1 designs left in set S and 25 designs in set P.\n",
      "INFO:root:Round 91:There are 1 designs left in set S and 25 designs in set P.\n",
      "INFO:root:Round 92:There are 1 designs left in set S and 25 designs in set P.\n",
      "INFO:root:Round 93:There are 1 designs left in set S and 25 designs in set P.\n",
      "INFO:root:Round 94:There are 1 designs left in set S and 25 designs in set P.\n",
      "INFO:root:Round 95:There are 1 designs left in set S and 25 designs in set P.\n",
      "INFO:root:Round 96:There are 1 designs left in set S and 25 designs in set P.\n",
      "INFO:root:Round 97:There are 1 designs left in set S and 25 designs in set P.\n",
      "INFO:root:Round 98:There are 1 designs left in set S and 25 designs in set P.\n",
      "INFO:root:Round 99:There are 1 designs left in set S and 25 designs in set P.\n",
      "INFO:root:Round 100:There are 1 designs left in set S and 25 designs in set P.\n",
      "INFO:root:Round 101:There are 1 designs left in set S and 25 designs in set P.\n",
      "INFO:root:Round 102:There are 1 designs left in set S and 25 designs in set P.\n",
      "INFO:root:Round 103:There are 1 designs left in set S and 25 designs in set P.\n",
      "INFO:root:Round 104:There are 1 designs left in set S and 25 designs in set P.\n",
      "INFO:root:Round 105:There are 1 designs left in set S and 25 designs in set P.\n",
      "INFO:root:Round 106:There are 1 designs left in set S and 25 designs in set P.\n",
      "INFO:root:Round 107:There are 1 designs left in set S and 25 designs in set P.\n",
      "INFO:root:Round 108:There are 1 designs left in set S and 25 designs in set P.\n",
      "INFO:root:Round 109:There are 1 designs left in set S and 25 designs in set P.\n",
      "INFO:root:Round 110:There are 1 designs left in set S and 25 designs in set P.\n",
      "INFO:root:Round 111:There are 1 designs left in set S and 25 designs in set P.\n",
      "INFO:root:Round 112:There are 1 designs left in set S and 25 designs in set P.\n",
      "INFO:root:Round 113:There are 1 designs left in set S and 25 designs in set P.\n",
      "INFO:root:Round 114:There are 1 designs left in set S and 25 designs in set P.\n",
      "INFO:root:Round 115:There are 1 designs left in set S and 25 designs in set P.\n",
      "INFO:root:Round 116:There are 1 designs left in set S and 25 designs in set P.\n",
      "INFO:root:Round 117:There are 1 designs left in set S and 25 designs in set P.\n",
      "INFO:root:Round 118:There are 1 designs left in set S and 25 designs in set P.\n",
      "INFO:root:Round 119:There are 1 designs left in set S and 25 designs in set P.\n",
      "INFO:root:Round 120:There are 1 designs left in set S and 25 designs in set P.\n",
      "INFO:root:Round 121:There are 1 designs left in set S and 25 designs in set P.\n",
      "INFO:root:Round 122:There are 1 designs left in set S and 25 designs in set P.\n",
      "INFO:root:Round 123:There are 1 designs left in set S and 25 designs in set P.\n",
      "INFO:root:Round 124:There are 1 designs left in set S and 25 designs in set P.\n",
      "INFO:root:Round 125:There are 1 designs left in set S and 25 designs in set P.\n",
      "INFO:root:Round 126:There are 1 designs left in set S and 25 designs in set P.\n",
      "INFO:root:Round 127:There are 1 designs left in set S and 25 designs in set P.\n",
      "INFO:root:Round 128:There are 1 designs left in set S and 25 designs in set P.\n",
      "INFO:root:Round 129:There are 1 designs left in set S and 25 designs in set P.\n",
      "INFO:root:Round 130:There are 1 designs left in set S and 25 designs in set P.\n",
      "INFO:root:Round 131:There are 1 designs left in set S and 25 designs in set P.\n",
      "INFO:root:Round 132:There are 1 designs left in set S and 25 designs in set P.\n",
      "INFO:root:Round 133:There are 1 designs left in set S and 25 designs in set P.\n",
      "INFO:root:Round 134:There are 1 designs left in set S and 25 designs in set P.\n",
      "INFO:root:Round 135:There are 1 designs left in set S and 25 designs in set P.\n",
      "INFO:root:Round 136:There are 1 designs left in set S and 25 designs in set P.\n",
      "INFO:root:Round 137:There are 1 designs left in set S and 25 designs in set P.\n",
      "INFO:root:Round 138:There are 1 designs left in set S and 25 designs in set P.\n",
      "INFO:root:Round 139:There are 1 designs left in set S and 25 designs in set P.\n",
      "INFO:root:Round 140:There are 1 designs left in set S and 25 designs in set P.\n",
      "INFO:root:Round 141:There are 1 designs left in set S and 25 designs in set P.\n",
      "INFO:root:Round 142:There are 1 designs left in set S and 25 designs in set P.\n",
      "INFO:root:Round 143:There are 1 designs left in set S and 25 designs in set P.\n",
      "INFO:root:Round 144:There are 1 designs left in set S and 25 designs in set P.\n",
      "INFO:root:Round 145:There are 1 designs left in set S and 25 designs in set P.\n",
      "INFO:root:Round 146:There are 1 designs left in set S and 25 designs in set P.\n",
      "INFO:root:Round 147:There are 1 designs left in set S and 25 designs in set P.\n",
      "INFO:root:Round 148:There are 1 designs left in set S and 25 designs in set P.\n",
      "INFO:root:Round 149:There are 1 designs left in set S and 25 designs in set P.\n",
      "INFO:root:Round 150:There are 1 designs left in set S and 25 designs in set P.\n",
      "INFO:root:Round 151:There are 1 designs left in set S and 25 designs in set P.\n",
      "INFO:root:Round 152:There are 1 designs left in set S and 25 designs in set P.\n",
      "INFO:root:Round 153:There are 1 designs left in set S and 25 designs in set P.\n",
      "INFO:root:Round 154:There are 1 designs left in set S and 25 designs in set P.\n",
      "INFO:root:Round 155:There are 1 designs left in set S and 25 designs in set P.\n",
      "INFO:root:Round 156:There are 1 designs left in set S and 25 designs in set P.\n",
      "INFO:root:Round 157:There are 1 designs left in set S and 25 designs in set P.\n",
      "INFO:root:Round 158:There are 1 designs left in set S and 25 designs in set P.\n",
      "INFO:root:Round 159:There are 1 designs left in set S and 25 designs in set P.\n",
      "INFO:root:Round 160:There are 1 designs left in set S and 25 designs in set P.\n",
      "INFO:root:Round 161:There are 1 designs left in set S and 25 designs in set P.\n",
      "INFO:root:Round 162:There are 1 designs left in set S and 25 designs in set P.\n",
      "INFO:root:Round 163:There are 1 designs left in set S and 25 designs in set P.\n",
      "INFO:root:Round 164:There are 1 designs left in set S and 25 designs in set P.\n",
      "INFO:root:Round 165:There are 1 designs left in set S and 25 designs in set P.\n",
      "INFO:root:Round 166:There are 1 designs left in set S and 25 designs in set P.\n",
      "INFO:root:Round 167:There are 1 designs left in set S and 25 designs in set P.\n",
      "INFO:root:Round 168:There are 1 designs left in set S and 25 designs in set P.\n",
      "INFO:root:Round 169:There are 1 designs left in set S and 25 designs in set P.\n",
      "INFO:root:Round 170:There are 1 designs left in set S and 25 designs in set P.\n",
      "INFO:root:Round 171:There are 1 designs left in set S and 25 designs in set P.\n",
      "INFO:root:Round 172:There are 1 designs left in set S and 25 designs in set P.\n",
      "INFO:root:Round 173:There are 1 designs left in set S and 25 designs in set P.\n",
      "INFO:root:Round 174:There are 0 designs left in set S and 25 designs in set P.\n"
     ]
    }
   ],
   "source": [
    "paveba_problem = FixedPointsProblem(\n",
    "    in_points=X_np,\n",
    "    out_dim=problem.num_objectives,\n",
    "    objective=lambda x: problem(torch.tensor(x)).numpy(force=True),\n",
    ")\n",
    "\n",
    "# Algorithm parameters\n",
    "epsilon = 0.01\n",
    "delta = 0.05\n",
    "\n",
    "paveba_alg = PaVeBaGPOnline(\n",
    "    epsilon=epsilon,\n",
    "    delta=delta,\n",
    "    problem=paveba_problem,\n",
    "    order=order,\n",
    "    conf_contraction=128,\n",
    "    initial_sample_cnt=25,\n",
    "    reset_on_retrain=False,\n",
    ")\n",
    "\n",
    "while True:\n",
    "    is_done = paveba_alg.run_one_step()\n",
    "\n",
    "    if is_done:\n",
    "        break"
   ]
  },
  {
   "cell_type": "markdown",
   "metadata": {},
   "source": [
    "#### Set up and run Optuna"
   ]
  },
  {
   "cell_type": "code",
   "execution_count": 16,
   "metadata": {},
   "outputs": [
    {
     "name": "stdout",
     "output_type": "stream",
     "text": [
      "Number of finished trials:  199\n"
     ]
    }
   ],
   "source": [
    "# def optuna_objective(trial):\n",
    "#     index = trial.suggest_categorical(\"tau_temp_equ\", list(range(len(X))))\n",
    "\n",
    "#     inp = torch.tensor(X[index]).reshape(1, problem.dim)\n",
    "#     return problem(inp).numpy(force=True).tolist()[0]\n",
    "\n",
    "# def optuna_objective(trial):\n",
    "#     index = trial.suggest_categorical(\"tau_temp_equ\", X)\n",
    "\n",
    "#     inp = torch.tensor(X[index]).reshape(1, problem.dim)\n",
    "#     return problem(inp).numpy(force=True).tolist()[0]\n",
    "\n",
    "def optuna_objective(trial):\n",
    "    tau = trial.suggest_float(\"tau\", problem._bounds[0][0], problem._bounds[0][1])\n",
    "    temperature = trial.suggest_float(\"temperature\", problem._bounds[1][0], problem._bounds[1][1])\n",
    "    equivalents = trial.suggest_float(\"equivalents\", problem._bounds[2][0], problem._bounds[2][1])\n",
    "    suggested_point = np.array([tau, temperature, equivalents])\n",
    "    # inp = torch.tensor(suggested_point).reshape(1, problem.dim)\n",
    "\n",
    "    distances = np.linalg.norm(X_np - suggested_point, axis=1)\n",
    "    closest_index = np.argmin(distances)\n",
    "    inp = torch.tensor(X_np[closest_index]).reshape(1, problem.dim)\n",
    "    \n",
    "    return problem(inp).numpy(force=True).tolist()[0]\n",
    "\n",
    "X = X_np.tolist()\n",
    "X = [tuple(x) for x in X]\n",
    "\n",
    "study = optuna.create_study(directions=[\"maximize\", \"maximize\"])\n",
    "study.optimize(optuna_objective, n_trials=paveba_alg.sample_count, timeout=120)\n",
    "print(\"Number of finished trials: \", len(study.trials))"
   ]
  },
  {
   "cell_type": "markdown",
   "metadata": {},
   "source": [
    "### Evaluation\n",
    "\n",
    "We will evaluate the frameworks. We can start by computing the ground truth values."
   ]
  },
  {
   "cell_type": "code",
   "execution_count": 17,
   "metadata": {},
   "outputs": [],
   "source": [
    "Y_true = problem(torch.tensor(X_np), noise=False).numpy(force=True)"
   ]
  },
  {
   "cell_type": "markdown",
   "metadata": {},
   "source": [
    "We compute the corresponding Pareto set approximations."
   ]
  },
  {
   "cell_type": "code",
   "execution_count": 18,
   "metadata": {},
   "outputs": [],
   "source": [
    "optuna_p_set = set()\n",
    "for trial in study.best_trials:\n",
    "    trial_pt = np.array((trial.params[\"tau\"], trial.params[\"temperature\"], trial.params[\"equivalents\"]))\n",
    "    closest_index = np.argmin(np.linalg.norm(trial_pt - X_np, axis=1))\n",
    "    optuna_p_set.add(closest_index)\n",
    "optuna_p_set = list(optuna_p_set)\n",
    "\n",
    "vopy_p_set = list(paveba_alg.P)"
   ]
  },
  {
   "cell_type": "markdown",
   "metadata": {},
   "source": [
    "Results in cone order that we defined:"
   ]
  },
  {
   "cell_type": "code",
   "execution_count": 19,
   "metadata": {},
   "outputs": [
    {
     "name": "stdout",
     "output_type": "stream",
     "text": [
      "VOPy epsilon-F1 score: 0.81\n",
      "Optuna epsilon-F1 score: 0.44\n"
     ]
    }
   ],
   "source": [
    "dataset = mock.Mock()\n",
    "dataset.out_data = Y_true\n",
    "true_pareto_inds = order.get_pareto_set(Y_true)\n",
    "\n",
    "vopy_epsf1 = calculate_epsilonF1_score(dataset, order, true_pareto_inds, vopy_p_set, epsilon)\n",
    "optuna_epsf1 = calculate_epsilonF1_score(dataset, order, true_pareto_inds, optuna_p_set, epsilon)\n",
    "\n",
    "print(f\"VOPy epsilon-F1 score: {vopy_epsf1:.2f}\")\n",
    "print(f\"Optuna epsilon-F1 score: {optuna_epsf1:.2f}\")"
   ]
  },
  {
   "cell_type": "markdown",
   "metadata": {},
   "source": [
    "#### Visualization of Pareto sets"
   ]
  },
  {
   "cell_type": "code",
   "execution_count": 20,
   "metadata": {},
   "outputs": [
    {
     "data": {
      "text/plain": [
       "<matplotlib.legend.Legend at 0x13f93e210>"
      ]
     },
     "execution_count": 20,
     "metadata": {},
     "output_type": "execute_result"
    },
    {
     "data": {
      "image/png": "[encoded data removed]",
      "text/plain": [
       "<Figure size 600x400 with 1 Axes>"
      ]
     },
     "metadata": {},
     "output_type": "display_data"
    }
   ],
   "source": [
    "tmp_pareto_fig = order.plot_pareto_set(Y_true)\n",
    "tmp_pareto_fig.axes[0].scatter(\n",
    "    dataset.out_data[vopy_p_set][:, 0],\n",
    "    dataset.out_data[vopy_p_set][:, 1],\n",
    "    c=\"tab:red\", label=\"VOPy Pareto\", alpha=0.5, marker=\"^\"\n",
    ")\n",
    "tmp_pareto_fig.axes[0].scatter(\n",
    "    dataset.out_data[optuna_p_set][:, 0],\n",
    "    dataset.out_data[optuna_p_set][:, 1],\n",
    "    c=\"tab:green\", label=\"Optuna Pareto\", alpha=0.5, marker=\"v\"\n",
    ")\n",
    "tmp_pareto_fig.axes[0].legend(loc=\"lower left\")"
   ]
  },
  {
   "cell_type": "markdown",
   "metadata": {},
   "source": [
    "#### END"
   ]
  },
  {
   "cell_type": "markdown",
   "metadata": {},
   "source": [
    "**Check if Optuna improves over higher sample counts**"
   ]
  },
  {
   "cell_type": "code",
   "execution_count": 30,
   "metadata": {},
   "outputs": [
    {
     "name": "stdout",
     "output_type": "stream",
     "text": [
      "epsilon-F1 of VO and MO score at trial 50: 0.279, 0.316\n",
      "epsilon-F1 of VO and MO score at trial 100: 0.391, 0.522\n",
      "epsilon-F1 of VO and MO score at trial 150: 0.426, 0.500\n",
      "epsilon-F1 of VO and MO score at trial 200: 0.426, 0.500\n",
      "epsilon-F1 of VO and MO score at trial 250: 0.391, 0.783\n",
      "epsilon-F1 of VO and MO score at trial 300: 0.391, 0.783\n",
      "epsilon-F1 of VO and MO score at trial 350: 0.490, 0.769\n",
      "epsilon-F1 of VO and MO score at trial 400: 0.490, 0.769\n",
      "epsilon-F1 of VO and MO score at trial 450: 0.426, 0.870\n",
      "epsilon-F1 of VO and MO score at trial 500: 0.426, 0.870\n",
      "epsilon-F1 of VO and MO score at trial 550: 0.458, 0.880\n",
      "epsilon-F1 of VO and MO score at trial 600: 0.458, 0.880\n"
     ]
    }
   ],
   "source": [
    "def optuna_objective(trial):\n",
    "    tau = trial.suggest_float(\"tau\", problem._bounds[0][0], problem._bounds[0][1])\n",
    "    temperature = trial.suggest_float(\"temperature\", problem._bounds[1][0], problem._bounds[1][1])\n",
    "    equivalents = trial.suggest_float(\"equivalents\", problem._bounds[2][0], problem._bounds[2][1])\n",
    "    suggested_point = np.array([tau, temperature, equivalents])\n",
    "\n",
    "    distances = np.linalg.norm(X_np - suggested_point, axis=1)\n",
    "    closest_index = np.argmin(distances)\n",
    "    \n",
    "    inp = torch.tensor(X_np[closest_index]).reshape(1, problem.dim)\n",
    "    return problem(inp).numpy(force=True).tolist()[0]\n",
    "\n",
    "study = optuna.create_study(directions=[\"maximize\", \"maximize\"])\n",
    "for i in range(12):\n",
    "    study.optimize(optuna_objective, n_trials=50, timeout=120)\n",
    "    optuna_p_set = set()\n",
    "    for trial in study.best_trials:\n",
    "        trial_pt = np.array((trial.params[\"tau\"], trial.params[\"temperature\"], trial.params[\"equivalents\"]))\n",
    "        closest_index = np.argmin(np.linalg.norm(trial_pt - X_np, axis=1))\n",
    "        optuna_p_set.add(closest_index)\n",
    "    optuna_p_set = list(optuna_p_set)\n",
    "    optuna_epsf1 = calculate_epsilonF1_score(dataset, order, true_pareto_inds, optuna_p_set, epsilon)\n",
    "    optuna_epsf1_mo = calculate_epsilonF1_score(dataset, order_mo, true_pareto_inds_mo, optuna_p_set, epsilon)\n",
    "    print(f\"epsilon-F1 of VO and MO score at trial {(i + 1) * 50}: {optuna_epsf1:.3f}, {optuna_epsf1_mo:.3f}\")"
   ]
  },
  {
   "cell_type": "markdown",
   "metadata": {},
   "source": [
    "**Evaluate according to MO**"
   ]
  },
  {
   "cell_type": "markdown",
   "metadata": {},
   "source": [
    "Results in componentwise (multi-objective) cone:"
   ]
  },
  {
   "cell_type": "code",
   "execution_count": null,
   "metadata": {},
   "outputs": [],
   "source": [
    "order_mo = ConeTheta2DOrder(cone_degree=90)\n",
    "fig_cone_mo = order_mo.ordering_cone.plot()"
   ]
  },
  {
   "cell_type": "code",
   "execution_count": null,
   "metadata": {},
   "outputs": [],
   "source": [
    "true_pareto_inds_mo = order_mo.get_pareto_set(Y_true)\n",
    "\n",
    "vopy_epsf1_mo = calculate_epsilonF1_score(dataset, order_mo, true_pareto_inds_mo, vopy_p_set, epsilon)\n",
    "optuna_epsf1_mo = calculate_epsilonF1_score(dataset, order_mo, true_pareto_inds_mo, optuna_p_set, epsilon)\n",
    "\n",
    "print(\"VOPy epsilon-F1 score:\", vopy_epsf1_mo)\n",
    "print(\"Optuna epsilon-F1 score:\", optuna_epsf1_mo)"
   ]
  },
  {
   "cell_type": "markdown",
   "metadata": {},
   "source": [
    "**Optuna Pareto set is unrestricted.**"
   ]
  },
  {
   "cell_type": "code",
   "execution_count": null,
   "metadata": {},
   "outputs": [],
   "source": [
    "X_optuna = [[trial.params[\"tau\"], trial.params[\"temperature\"], trial.params[\"equivalents\"]] for trial in study.best_trials]\n",
    "X_optuna = np.array(X_optuna)\n",
    "Y_true_optuna = problem(torch.tensor(X_optuna), noise=False).numpy(force=True)\n",
    "\n",
    "Y_true_vopy = Y_true[list(paveba_alg.P)]\n",
    "Y_true_pareto = Y_true[order.get_pareto_set(Y_true)]"
   ]
  },
  {
   "cell_type": "code",
   "execution_count": null,
   "metadata": {},
   "outputs": [
    {
     "data": {
      "image/png": "[encoded data removed]",
      "text/plain": [
       "<Figure size 640x480 with 1 Axes>"
      ]
     },
     "metadata": {},
     "output_type": "display_data"
    }
   ],
   "source": [
    "plt.scatter(Y_true[:, 0], Y_true[:, 1], label=\"Ground Truth\", alpha=0.5, c='blue')\n",
    "plt.scatter(Y_true_optuna[:, 0], Y_true_optuna[:, 1], label=\"Optuna\", alpha=0.5, c='orange')\n",
    "plt.scatter(Y_true_vopy[:, 0], Y_true_vopy[:, 1], label=\"VOPy\", alpha=0.5, c='green')\n",
    "plt.scatter(Y_true_pareto[:, 0], Y_true_pareto[:, 1], label=\"Pareto\", alpha=0.5, c='red')\n",
    "\n",
    "plt.title(\"Pareto Fronts\")\n",
    "plt.legend()\n",
    "plt.show()"
   ]
  },
  {
   "cell_type": "code",
   "execution_count": null,
   "metadata": {},
   "outputs": [],
   "source": []
  }
 ],
 "metadata": {
  "kernelspec": {
   "display_name": "VOPy",
   "language": "python",
   "name": "python3"
  },
  "language_info": {
   "codemirror_mode": {
    "name": "ipython",
    "version": 3
   },
   "file_extension": ".py",
   "mimetype": "text/x-python",
   "name": "python",
   "nbconvert_exporter": "python",
   "pygments_lexer": "ipython3",
   "version": "3.13.3"
  }
 },
 "nbformat": 4,
 "nbformat_minor": 2
}
