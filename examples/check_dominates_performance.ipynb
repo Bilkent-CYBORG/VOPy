{
 "cells": [
  {
   "cell_type": "markdown",
   "metadata": {},
   "source": [
    "## Testing the performance of VOPy\n",
    "This notebook contains a comparison of VOPy implementations and of naive implementations of confidence region operation that checks domination and Pareto set calculation."
   ]
  },
  {
   "cell_type": "code",
   "execution_count": 1,
   "metadata": {},
   "outputs": [],
   "source": [
    "import time\n",
    "\n",
    "import cvxpy as cp\n",
    "import numpy as np\n",
    "import matplotlib.pyplot as plt\n",
    "\n",
    "from vopy.utils import (\n",
    "    set_seed,\n",
    "    hyperrectangle_get_vertices,\n",
    "    hyperrectangle_get_region_matrix,\n",
    ")\n",
    "from vopy.order import ConeTheta2DOrder\n",
    "from vopy.confidence_region import (\n",
    "    RectangularConfidenceRegion,\n",
    "    confidence_region_check_dominates,\n",
    ")\n",
    "\n",
    "set_seed(0)"
   ]
  },
  {
   "cell_type": "markdown",
   "metadata": {},
   "source": [
    "Create an `Order` object and visualize it's cone."
   ]
  },
  {
   "cell_type": "code",
   "execution_count": 2,
   "metadata": {},
   "outputs": [
    {
     "data": {
      "image/png": "[encoded data removed]",
      "text/plain": [
       "<Figure size 600x400 with 1 Axes>"
      ]
     },
     "metadata": {},
     "output_type": "display_data"
    }
   ],
   "source": [
    "order = ConeTheta2DOrder(cone_degree=135)\n",
    "fig_cone = order.ordering_cone.plot()"
   ]
  },
  {
   "cell_type": "markdown",
   "metadata": {},
   "source": [
    "### Check dominates performance"
   ]
  },
  {
   "cell_type": "markdown",
   "metadata": {},
   "source": [
    "Define utilities for generating random rectangles and visualizing them."
   ]
  },
  {
   "cell_type": "code",
   "execution_count": 3,
   "metadata": {},
   "outputs": [],
   "source": [
    "def order_vertices_clockwise(vertices):\n",
    "    # Sort the vertices in clockwise order.\n",
    "    center = np.mean(vertices, axis=0)\n",
    "    angles = np.arctan2(vertices[:, 1] - center[1], vertices[:, 0] - center[0])\n",
    "    return vertices[np.argsort(angles)]\n",
    "\n",
    "def plot_rectangle(vertices, ax, label):\n",
    "    len_vert = len(vertices)\n",
    "    \n",
    "    # Plot the points.\n",
    "    ax.scatter(vertices[:, 0], vertices[:, 1], label=label)\n",
    "    \n",
    "    # Plot the edges of the rectangle by connecting the vertices.\n",
    "    for i in range(len_vert):\n",
    "        ax.plot(vertices[[i, (i+1)%len_vert], 0], vertices[[i, (i+1)%len_vert], 1], 'k-')\n",
    "\n",
    "def visualize_comparison(rect1, rect2):\n",
    "    fig, ax = plt.subplots()\n",
    "\n",
    "    # Plot each polytope with a different label\n",
    "    rects = [rect1, rect2]\n",
    "    labels = ['x', 'x_prime']\n",
    "    for rect, label in zip(rects, labels):\n",
    "        vertices = hyperrectangle_get_vertices(rect.lower, rect.upper)\n",
    "        vertices = order_vertices_clockwise(vertices)  # Order the vertices in clockwise order.\n",
    "        plot_rectangle(vertices, ax, label)\n",
    "\n",
    "    ax.set_xlabel(r'$y_1$ Axis')\n",
    "    ax.set_ylabel(r'$y_2$ Axis')\n",
    "    plt.legend()\n",
    "    plt.show()\n",
    "\n",
    "def generate_rectangle():\n",
    "    dim = 2\n",
    "    center = 3 * np.random.randn(dim)\n",
    "    size = 4 * np.random.rand(dim) + 1e-2\n",
    "    lower = center - size\n",
    "    upper = center + size\n",
    "    return RectangularConfidenceRegion(dim, lower, upper)"
   ]
  },
  {
   "cell_type": "code",
   "execution_count": 4,
   "metadata": {},
   "outputs": [
    {
     "data": {
      "image/png": "[encoded data removed]",
      "text/plain": [
       "<Figure size 640x480 with 1 Axes>"
      ]
     },
     "metadata": {},
     "output_type": "display_data"
    }
   ],
   "source": [
    "x = generate_rectangle()\n",
    "x_prime = generate_rectangle()\n",
    "\n",
    "visualize_comparison(x, x_prime)"
   ]
  },
  {
   "cell_type": "markdown",
   "metadata": {},
   "source": [
    "Define the check dominates function to check if rect1 dominates rect2, using the definition in [Korkmaz et al. 2024](https://arxiv.org/abs/2412.02484) to formulate convex optimization problem."
   ]
  },
  {
   "cell_type": "code",
   "execution_count": 5,
   "metadata": {},
   "outputs": [],
   "source": [
    "def check_dominates_naive(order, rect1, rect2, slackness=0):\n",
    "    vertices = hyperrectangle_get_vertices(rect1.lower, rect1.upper)\n",
    "    obj2_matrix, obj2_boundary = hyperrectangle_get_region_matrix(rect2.lower, rect2.upper)\n",
    "\n",
    "    m = order.ordering_cone.W.shape[1]\n",
    "\n",
    "    for vertex in vertices:\n",
    "        x = cp.Variable(m)\n",
    "        y = cp.Variable(m)\n",
    "        prob = cp.Problem(\n",
    "            cp.Minimize(0),\n",
    "            [\n",
    "                x + y == vertex,\n",
    "                obj2_matrix @ x >= obj2_boundary,\n",
    "                order.ordering_cone.W @ y >= 0,\n",
    "            ],\n",
    "        )\n",
    "        try:\n",
    "            prob.solve()\n",
    "        except cp.error.SolverError:\n",
    "            prob.solve(solver=cp.SCS)\n",
    "\n",
    "        if prob.status == \"infeasible\":\n",
    "            return False\n",
    "\n",
    "    return True"
   ]
  },
  {
   "cell_type": "code",
   "execution_count": 6,
   "metadata": {},
   "outputs": [
    {
     "name": "stdout",
     "output_type": "stream",
     "text": [
      "VOPy time: 0.09059834480285645, Naive time: 17.384971141815186\n"
     ]
    }
   ],
   "source": [
    "iter_cnt = 5000\n",
    "rects = [[generate_rectangle(), generate_rectangle()] for _ in range(iter_cnt)]\n",
    "\n",
    "vopy_start = time.time()\n",
    "for i, (x, x_prime) in enumerate(rects):\n",
    "    confidence_region_check_dominates(order, x, x_prime)\n",
    "vopy_time = time.time() - vopy_start\n",
    "\n",
    "naive_start = time.time()\n",
    "for i, (x, x_prime) in enumerate(rects):\n",
    "    naive_result = check_dominates_naive(order, x, x_prime)\n",
    "naive_time = time.time() - naive_start\n",
    "\n",
    "print(f\"VOPy time: {vopy_time}, Naive time: {naive_time}\")\n",
    "\n",
    "for i, (x, x_prime) in enumerate(rects):\n",
    "    vopy_result = confidence_region_check_dominates(order, x, x_prime)\n",
    "    naive_result = check_dominates_naive(order, x, x_prime)\n",
    "    if vopy_result != naive_result:\n",
    "        print(f\"VOPy: {vopy_result}, Naive: {naive_result}\")\n",
    "        visualize_comparison(x, x_prime)\n",
    "        break\n"
   ]
  },
  {
   "cell_type": "markdown",
   "metadata": {},
   "source": [
    "### Pareto set calculation performance"
   ]
  },
  {
   "cell_type": "markdown",
   "metadata": {},
   "source": [
    "Let's now look at the Pareto set calculation performance w.r.t. the cardinality of the domain. Naive implementation is already present in the `Order` class."
   ]
  },
  {
   "cell_type": "code",
   "execution_count": 7,
   "metadata": {},
   "outputs": [
    {
     "data": {
      "image/png": "[encoded data removed]",
      "text/plain": [
       "<Figure size 600x400 with 1 Axes>"
      ]
     },
     "metadata": {},
     "output_type": "display_data"
    }
   ],
   "source": [
    "vopy_times = []\n",
    "naive_times = []\n",
    "\n",
    "pts_all = np.random.randn(10000, 2)\n",
    "pt_cnts = np.linspace(100, 10000, 25, dtype=int)\n",
    "for pt_cnt in pt_cnts:\n",
    "    pts = pts_all[:pt_cnt]\n",
    "\n",
    "    vopy_start = time.time()\n",
    "    p_set_vopy = order.get_pareto_set(pts)\n",
    "    vopy_time = time.time() - vopy_start\n",
    "\n",
    "    naive_start = time.time()\n",
    "    p_set_naive = order.get_pareto_set_naive(pts)\n",
    "    naive_time = time.time() - naive_start\n",
    "\n",
    "    vopy_times.append(vopy_time)\n",
    "    naive_times.append(naive_time)\n",
    "\n",
    "    assert set(sorted(p_set_vopy)) == set(sorted(p_set_naive))\n",
    "\n",
    "fig, ax = plt.subplots(1, 1, figsize=(6, 4))\n",
    "ax.plot(pt_cnts, vopy_times, c='tab:blue', label='VOPy')\n",
    "ax.plot(pt_cnts, naive_times, c='tab:red', label='Naive')\n",
    "ax.set_xlabel(r'$\\vert \\mathcal{X} \\vert$')\n",
    "ax.set_ylabel('Time (s)')\n",
    "ax.legend()\n",
    "plt.show()"
   ]
  }
 ],
 "metadata": {
  "language_info": {
   "name": "python"
  }
 },
 "nbformat": 4,
 "nbformat_minor": 2
}
