{
 "cells": [
  {
   "cell_type": "markdown",
   "metadata": {},
   "source": [
    "## Black-box Vector Optimization on Fairness\n",
    "This notebook contains a vector optimization example on an ML fairness dataset, and compares Naive Elimination and PaVeBa algorithms."
   ]
  },
  {
   "cell_type": "code",
   "execution_count": 1,
   "metadata": {},
   "outputs": [],
   "source": [
    "import warnings\n",
    "warnings.filterwarnings(\"ignore\")\n",
    "\n",
    "import vopy.algorithms\n",
    "from vopy.utils import set_seed\n",
    "from vopy.order import ConeTheta2DOrder\n",
    "from vopy.datasets import get_dataset_instance\n",
    "from vopy.utils.evaluate import calculate_epsilonF1_score"
   ]
  },
  {
   "cell_type": "markdown",
   "metadata": {},
   "source": [
    "Let's first create an `Order` object to define our preference and visualize it's cone. Our preference correspond to allowing a little trade-off between objectives."
   ]
  },
  {
   "cell_type": "code",
   "execution_count": null,
   "metadata": {},
   "outputs": [],
   "source": [
    "order = ConeTheta2DOrder(cone_degree=100)\n",
    "fig_cone = order.ordering_cone.plot()"
   ]
  },
  {
   "cell_type": "markdown",
   "metadata": {},
   "source": [
    "Now, we will create an instance of ML fairness dataset and visualize its Pareto front w.r.t. the order we created. This dataset contains different hyperparameter selections of ROAD approach on a neural network architecture. The objectives are negative global unfairness measured by disparate impact measure and accuracy of the model. The $x$-axis corresponds to the negative global unfairness and $y$-axis corresponds to the accuracy of the model."
   ]
  },
  {
   "cell_type": "code",
   "execution_count": null,
   "metadata": {},
   "outputs": [],
   "source": [
    "dataset_name = \"Fairness\"\n",
    "dataset = get_dataset_instance(dataset_name)\n",
    "fig_pareto = order.plot_pareto_set(dataset.out_data)"
   ]
  },
  {
   "cell_type": "markdown",
   "metadata": {},
   "source": [
    "As you can see, there are a lot of hyperparameter combinations that give $0$ unfairness (right end of the plot), but due to our encoded preference, only the one with the highest accuracy is among the Pareto front. There are $3$ candidates that are Pareto."
   ]
  },
  {
   "cell_type": "markdown",
   "metadata": {},
   "source": [
    "#### Algorithms\n",
    "We'll now run both algorithms (Naive Elimination and PaVeBa) and print out their results."
   ]
  },
  {
   "cell_type": "code",
   "execution_count": null,
   "metadata": {},
   "outputs": [],
   "source": [
    "epsilon = 0.01\n",
    "delta = 0.05\n",
    "noise_var = epsilon\n",
    "\n",
    "alg_names = [\"NaiveElimination\", \"PaVeBa\"]\n",
    "alg_params = {\n",
    "    \"NaiveElimination\": {\"L\": 5},\n",
    "    \"PaVeBa\": {\"conf_contraction\": 8}\n",
    "}\n",
    "\n",
    "for alg_name in alg_names:\n",
    "    set_seed(0)\n",
    "\n",
    "    algorithm = getattr(vopy.algorithms, alg_name)(\n",
    "        epsilon=epsilon, delta=delta,\n",
    "        dataset_name=dataset_name, order=order, noise_var=noise_var, **alg_params[alg_name]\n",
    "    )\n",
    "\n",
    "    while True:\n",
    "        is_done = algorithm.run_one_step()\n",
    "\n",
    "        if is_done:\n",
    "            break\n",
    "\n",
    "    pred_pareto_indices = sorted(list(algorithm.P))\n",
    "    pareto_indices = order.get_pareto_set(dataset.out_data)\n",
    "\n",
    "    eps_f1 = calculate_epsilonF1_score(\n",
    "        dataset, order, pareto_indices, pred_pareto_indices, epsilon\n",
    "    )\n",
    "    print(f\"{alg_name} - epsilon-F1 Score: {eps_f1:.2f}\")\n",
    "    print(f\"{alg_name} - Number of observations: {algorithm.sample_count}\")"
   ]
  },
  {
   "cell_type": "markdown",
   "metadata": {},
   "source": [
    "The results show both Naive Elimination and PaVeBa achieve perfect results but with different number of samples. This is expected due to the nature of the algorithms. For details of the algorithms, see documentation for `vopy.algorithms`."
   ]
  }
 ],
 "metadata": {
  "kernelspec": {
   "display_name": "Python 3",
   "language": "python",
   "name": "python3"
  },
  "language_info": {
   "codemirror_mode": {
    "name": "ipython",
    "version": 3
   },
   "file_extension": ".py",
   "mimetype": "text/x-python",
   "name": "python",
   "nbconvert_exporter": "python",
   "pygments_lexer": "ipython3",
   "version": "3.10.12"
  }
 },
 "nbformat": 4,
 "nbformat_minor": 2
}
