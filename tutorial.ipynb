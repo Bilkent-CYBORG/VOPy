{
 "cells": [
  {
   "cell_type": "code",
   "execution_count": null,
   "metadata": {},
   "outputs": [],
   "source": [
    "from copy import deepcopy\n",
    "\n",
    "from vectoptal.utils.seed import SEED\n",
    "from vectoptal.datasets.dataset import *\n",
    "from vectoptal.order import ConeTheta2DOrder\n",
    "from vectoptal.algorithms import NaiveElimination\n",
    "from vectoptal.utils import set_seed, calculate_epsilonF1_score\n",
    "\n",
    "set_seed(0)"
   ]
  },
  {
   "cell_type": "code",
   "execution_count": null,
   "metadata": {},
   "outputs": [],
   "source": [
    "order = ConeTheta2DOrder(cone_degree=120)\n",
    "fig_cone = order.ordering_cone.plot()"
   ]
  },
  {
   "cell_type": "code",
   "execution_count": null,
   "metadata": {},
   "outputs": [],
   "source": [
    "dataset_name = \"DiskBrake\"\n",
    "dataset = globals()[dataset_name]()\n",
    "fig_pareto = order.plot_pareto_set(dataset.out_data)"
   ]
  },
  {
   "cell_type": "code",
   "execution_count": null,
   "metadata": {},
   "outputs": [],
   "source": [
    "epsilon = 0.01\n",
    "delta = 0.05\n",
    "noise_var = epsilon\n",
    "\n",
    "algorithm = NaiveElimination(\n",
    "    epsilon=epsilon, delta=delta,\n",
    "    dataset_name=dataset_name, order=order, noise_var=noise_var,\n",
    "    L=10\n",
    ")\n",
    "\n",
    "while True:\n",
    "    is_done = algorithm.run_one_step()\n",
    "\n",
    "    if is_done:\n",
    "        break\n",
    "print(\"Done!\")\n",
    "\n",
    "pred_pareto_indices = sorted(list(algorithm.P))\n",
    "print(f\"Found Pareto front indices are: {str(pred_pareto_indices)}\")\n",
    "pareto_indices = order.get_pareto_set(dataset.out_data)\n",
    "print(f\" True Pareto front indices are: {str(list(pareto_indices))}\")\n",
    "\n",
    "eps_f1 = calculate_epsilonF1_score(\n",
    "    dataset, order, pareto_indices, pred_pareto_indices, epsilon\n",
    ")\n",
    "print(f\"epsilon-F1 Score: {eps_f1:.2f}\")"
   ]
  },
  {
   "cell_type": "code",
   "execution_count": null,
   "metadata": {},
   "outputs": [],
   "source": [
    "tmp_pareto_fig = deepcopy(fig_pareto)\n",
    "tmp_pareto_fig.axes[0].scatter(\n",
    "    dataset.out_data[pred_pareto_indices][:, 0],\n",
    "    dataset.out_data[pred_pareto_indices][:, 1],\n",
    "    c=\"tab:red\", label=\"Pareto\", alpha=0.6, marker=\"^\"\n",
    ")\n",
    "tmp_pareto_fig"
   ]
  },
  {
   "cell_type": "code",
   "execution_count": null,
   "metadata": {},
   "outputs": [],
   "source": []
  }
 ],
 "metadata": {
  "language_info": {
   "name": "python"
  }
 },
 "nbformat": 4,
 "nbformat_minor": 2
}
